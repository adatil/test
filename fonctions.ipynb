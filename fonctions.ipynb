{
 "cells": [
  {
   "cell_type": "markdown",
   "metadata": {},
   "source": [
    "# Les procédures et fonctions"
   ]
  },
  {
   "cell_type": "markdown",
   "metadata": {},
   "source": [
    "Lorsque les programmes sont plus longs, il est souvent plus judicieux de les découper en plusieurs parties. On crée alors des \"morceaux\" qui traitent un sous problème bien précis. On parle alors de :\n",
    "* procedures\n",
    "* fonctions\n",
    "\n",
    "Remarques : \n",
    "-dans la pratique on confond souvent les deux.\n",
    "-si le programme est encore plus gros on peut le découper en différents modules."
   ]
  },
  {
   "cell_type": "markdown",
   "metadata": {},
   "source": [
    "### Les procédures"
   ]
  },
  {
   "cell_type": "markdown",
   "metadata": {},
   "source": [
    "D'une façon générale, une **procédure** est une sorte de boite noire qui réalise une action donnée à partir d'un certains nombres d'entrées que l'on appelle des **paramètres**. \n",
    "\n",
    "Vous les avez déja utilisé sans le savoir. Par exemple, lorsqu'on utilise l'instruction *print(\"Bonjour\")*, on appelle la procédure *print* qui prend comme paramètre le texte que l'on veut afficher et réalise l'action d'afficher à l'écran de l'utilisateur ce texte. Cependant nous ne savons pas précisément le contenu de cette boite.\n",
    "\n",
    "Dans notre cas, ce sera à nous de la créer pour pouvoir l'utiliser. Prenons un cas concret, nous souhaitons afficher l'aire de deux rectangles (ou plus) dont nous connaissons respectivement la largeur et la longueur. Nous voyons aisément que nous allons avoir besoin de créer une procédure permettant de calculer et d'afficher l'aire."
   ]
  },
  {
   "cell_type": "code",
   "execution_count": 4,
   "metadata": {},
   "outputs": [],
   "source": [
    "#************************************************************************************************\n",
    "# Procédure permettant de calculer et d'afficher le volume d'un pavé droit les paramètres sont :\n",
    "#   larg : la largeur de notre pavé\n",
    "#   long : la longueur de notre pavé\n",
    "#   haut : La hauteur de notre pavé\n",
    "#   ces trois variables sont données à la procédure lors de l'appel (ce sont des paramètres)\n",
    "#************************************************************************************************\n",
    "\n",
    "def Calcul_et_affichage_volume_pave(larg,long,haut):\n",
    "    volume = larg * long *haut\n",
    "    print(\"Le volume du pavé droit de largeur {} et de longueur {} et de hauteur {} est de {} mètres cubes\".format(larg,long,haut, volume))"
   ]
  },
  {
   "cell_type": "markdown",
   "metadata": {},
   "source": [
    "Nous avons juste créé un \"bout\" de programme qui réalise notre action. Il nous maintenant à l'utiliser. C'est une procédure"
   ]
  },
  {
   "cell_type": "code",
   "execution_count": 5,
   "metadata": {},
   "outputs": [
    {
     "name": "stdout",
     "output_type": "stream",
     "text": [
      "Le volume du pavé droit de largeur 3 et de longueur 5.5 et de hauteur 2 est de 33.0 m²\n",
      "Le volume du pavé droit de largeur 20.2 et de longueur 2 et de hauteur 3 est de 121.19999999999999 m²\n"
     ]
    }
   ],
   "source": [
    "Calcul_et_affichage_volume_pave(3,5.5,2)\n",
    "Calcul_et_affichage_volume_pave(20.2,2,3)"
   ]
  },
  {
   "cell_type": "markdown",
   "metadata": {},
   "source": [
    "A noter que les résultats ne sont pas conservés en mémoire ! (pas d'affectation de variable)"
   ]
  },
  {
   "cell_type": "markdown",
   "metadata": {},
   "source": [
    "### Les fonctions"
   ]
  },
  {
   "cell_type": "markdown",
   "metadata": {},
   "source": [
    "De façon simple, une fonction est une procédure qui renvoie un résultat stockable dans une variable. Reprenons notre exemple précédent en contraignant simplement de calculer le volume de notre pavé dont nous connaissons la largeur, la longueur et la hauteur."
   ]
  },
  {
   "cell_type": "code",
   "execution_count": 6,
   "metadata": {},
   "outputs": [],
   "source": [
    "#************************************************************************************************\n",
    "# Procédure permettant de calculer et d'afficher le volume d'un pavé droit les paramètres sont :\n",
    "#   larg : la largeur de notre pavé\n",
    "#   long : la longueur de notre pavé\n",
    "#   haut : La hauteur de notre pavé\n",
    "#   ces trois variables sont données à la procédure lors de l'appel (ce sont des paramètres)\n",
    "#************************************************************************************************\n",
    "def Calcul_Volume_Pave(larg, long,haut):\n",
    "    volume = larg * long*haut\n",
    "    return volume"
   ]
  },
  {
   "cell_type": "markdown",
   "metadata": {},
   "source": [
    "Nous l'utilisons"
   ]
  },
  {
   "cell_type": "code",
   "execution_count": 8,
   "metadata": {
    "scrolled": true
   },
   "outputs": [
    {
     "name": "stdout",
     "output_type": "stream",
     "text": [
      "Le volume du pavé droit 66.0 mètres cubes\n",
      "Le volume du pavé droit 121.19999999999999 mètres cubes\n"
     ]
    }
   ],
   "source": [
    "v1 = Calcul_Volume_Pave(3,5.5,4)\n",
    "print(\"Le volume du pavé droit {} mètres cubes\".format(v1))\n",
    "v2 = Calcul_Volume_Pave(20.2,2,3)\n",
    "print(\"Le volume du pavé droit {} mètres cubes\".format(v2))"
   ]
  },
  {
   "cell_type": "markdown",
   "metadata": {},
   "source": [
    "Définissons maintenant une fonction \"comme\" en mathématiques. "
   ]
  },
  {
   "cell_type": "code",
   "execution_count": 10,
   "metadata": {},
   "outputs": [],
   "source": [
    "def f(x):\n",
    "    return 3*x**2-2*x+1"
   ]
  },
  {
   "cell_type": "markdown",
   "metadata": {},
   "source": [
    "On utilise notre fonction :"
   ]
  },
  {
   "cell_type": "code",
   "execution_count": 11,
   "metadata": {},
   "outputs": [
    {
     "name": "stdout",
     "output_type": "stream",
     "text": [
      "22\n"
     ]
    }
   ],
   "source": [
    "print(f(3))"
   ]
  },
  {
   "cell_type": "markdown",
   "metadata": {},
   "source": [
    "Représentons maintenant cette fonction : "
   ]
  },
  {
   "cell_type": "code",
   "execution_count": 13,
   "metadata": {},
   "outputs": [
    {
     "data": {
      "text/plain": [
       "[<matplotlib.lines.Line2D at 0xef4aad0>]"
      ]
     },
     "execution_count": 13,
     "metadata": {},
     "output_type": "execute_result"
    },
    {
     "data": {
      "image/png": "[encoded data removed]",
      "text/plain": [
       "<Figure size 432x288 with 1 Axes>"
      ]
     },
     "metadata": {
      "needs_background": "light"
     },
     "output_type": "display_data"
    }
   ],
   "source": [
    "from matplotlib.pylab import plot\n",
    "X= [1,2,3,4,5]\n",
    "Y=[f(1),f(2),f(3),f(4),f(5)]\n",
    "plot(X,Y)"
   ]
  },
  {
   "cell_type": "markdown",
   "metadata": {},
   "source": [
    "Remarque : pour gagner en efficacité on peut créer le X et le Y en utilisant une boucle !"
   ]
  },
  {
   "cell_type": "markdown",
   "metadata": {},
   "source": [
    "Dans le cas d'une fonction, les résultats sont gardés en mémoire et peuvent donc être réutilisés plus tard.\n",
    "Par abus de langage, on rassemble souvent les procédures et fonctions sous le terme global de **fonctions**.\n",
    "L'intérêt de ces manières de procéder est d'isoler et de compartimenter les problèmes. On comprend bien l'intérêt, et dans notre dernier exemple nous sommes très proches de la notion de fonction en mathématiques."
   ]
  }
 ],
 "metadata": {
  "kernelspec": {
   "display_name": "Python 3",
   "language": "python",
   "name": "python3"
  },
  "language_info": {
   "codemirror_mode": {
    "name": "ipython",
    "version": 3
   },
   "file_extension": ".py",
   "mimetype": "text/x-python",
   "name": "python",
   "nbconvert_exporter": "python",
   "pygments_lexer": "ipython3",
   "version": "3.7.3"
  }
 },
 "nbformat": 4,
 "nbformat_minor": 2
}
